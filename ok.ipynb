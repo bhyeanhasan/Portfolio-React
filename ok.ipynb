{
 "cells": [
  {
   "cell_type": "code",
   "id": "initial_id",
   "metadata": {
    "collapsed": true,
    "ExecuteTime": {
     "end_time": "2024-12-13T14:58:11.499635Z",
     "start_time": "2024-12-13T14:57:58.794844Z"
    }
   },
   "source": [
    "import cv2\n",
    "import numpy as np\n",
    "import os\n",
    "\n",
    "def extract_frames(video_path):\n",
    "    \"\"\"\n",
    "    Extract frames from a video and return them as a list.\n",
    "    \"\"\"\n",
    "    cap = cv2.VideoCapture(video_path)\n",
    "    frames = []\n",
    "    while cap.isOpened():\n",
    "        ret, frame = cap.read()\n",
    "        if not ret:\n",
    "            break\n",
    "        frames.append(frame)\n",
    "    cap.release()\n",
    "    return frames\n",
    "\n",
    "def resize_frame(frame, max_size=1200):\n",
    "    \"\"\"\n",
    "    Resize the frame to make sure its dimensions are within the allowed limits.\n",
    "    \"\"\"\n",
    "    h, w = frame.shape[:2]\n",
    "    if max(h, w) > max_size:\n",
    "        scaling_factor = max_size / max(h, w)\n",
    "        new_size = (int(w * scaling_factor), int(h * scaling_factor))\n",
    "        return cv2.resize(frame, new_size)\n",
    "    return frame\n",
    "\n",
    "def create_panorama(frames):\n",
    "    \"\"\"\n",
    "    Create a panorama from the list of frames, resizing each frame to avoid excessive dimensions.\n",
    "    \"\"\"\n",
    "    # Initialize the ORB detector\n",
    "    orb = cv2.ORB_create()\n",
    "\n",
    "    # Initialize a brute-force matcher\n",
    "    bf = cv2.BFMatcher(cv2.NORM_HAMMING, crossCheck=True)\n",
    "\n",
    "    # Resize the first frame if necessary\n",
    "    panorama = resize_frame(frames[0])\n",
    "\n",
    "    for i in range(1, len(frames)):\n",
    "        # Resize the current frame if necessary\n",
    "        frame_resized = resize_frame(frames[i])\n",
    "\n",
    "        # Find keypoints and descriptors\n",
    "        kp1, des1 = orb.detectAndCompute(panorama, None)\n",
    "        kp2, des2 = orb.detectAndCompute(frame_resized, None)\n",
    "\n",
    "        # Match descriptors between consecutive frames\n",
    "        matches = bf.match(des1, des2)\n",
    "        matches = sorted(matches, key=lambda x: x.distance)\n",
    "\n",
    "        # Prepare points for homography estimation\n",
    "        src_pts = np.float32([kp1[m.queryIdx].pt for m in matches]).reshape(-1, 1, 2)\n",
    "        dst_pts = np.float32([kp2[m.trainIdx].pt for m in matches]).reshape(-1, 1, 2)\n",
    "\n",
    "        # Find homography\n",
    "        H, _ = cv2.findHomography(src_pts, dst_pts, cv2.RANSAC, 5.0)\n",
    "\n",
    "        # Warp the second frame to the first frame\n",
    "        panorama = cv2.warpPerspective(panorama, H, (panorama.shape[1] + frame_resized.shape[1], panorama.shape[0]))\n",
    "        panorama[0:frame_resized.shape[0], 0:frame_resized.shape[1]] = frame_resized\n",
    "\n",
    "    return panorama\n",
    "\n",
    "def main():\n",
    "    video_path = \"video.mp4\"  # Path to the input video\n",
    "    frames = extract_frames(video_path)\n",
    "\n",
    "    # Create a panorama\n",
    "    panorama = create_panorama(frames)\n",
    "\n",
    "    # Save the final panorama\n",
    "    output_path = \"output.jpg\"\n",
    "    cv2.imwrite(output_path, panorama)\n",
    "    print(f\"Panorama saved at {output_path}\")\n",
    "\n",
    "if __name__ == \"__main__\":\n",
    "    main()\n"
   ],
   "outputs": [
    {
     "ename": "error",
     "evalue": "OpenCV(4.10.0) D:\\a\\opencv-python\\opencv-python\\opencv\\modules\\imgproc\\src\\imgwarp.cpp:1813: error: (-215:Assertion failed) dst.cols < SHRT_MAX && dst.rows < SHRT_MAX && src.cols < SHRT_MAX && src.rows < SHRT_MAX in function 'cv::remap'\n",
     "output_type": "error",
     "traceback": [
      "\u001B[1;31m---------------------------------------------------------------------------\u001B[0m",
      "\u001B[1;31merror\u001B[0m                                     Traceback (most recent call last)",
      "Cell \u001B[1;32mIn[2], line 81\u001B[0m\n\u001B[0;32m     78\u001B[0m     \u001B[38;5;28mprint\u001B[39m(\u001B[38;5;124mf\u001B[39m\u001B[38;5;124m\"\u001B[39m\u001B[38;5;124mPanorama saved at \u001B[39m\u001B[38;5;132;01m{\u001B[39;00moutput_path\u001B[38;5;132;01m}\u001B[39;00m\u001B[38;5;124m\"\u001B[39m)\n\u001B[0;32m     80\u001B[0m \u001B[38;5;28;01mif\u001B[39;00m \u001B[38;5;18m__name__\u001B[39m \u001B[38;5;241m==\u001B[39m \u001B[38;5;124m\"\u001B[39m\u001B[38;5;124m__main__\u001B[39m\u001B[38;5;124m\"\u001B[39m:\n\u001B[1;32m---> 81\u001B[0m     main()\n",
      "Cell \u001B[1;32mIn[2], line 73\u001B[0m, in \u001B[0;36mmain\u001B[1;34m()\u001B[0m\n\u001B[0;32m     70\u001B[0m frames \u001B[38;5;241m=\u001B[39m extract_frames(video_path)\n\u001B[0;32m     72\u001B[0m \u001B[38;5;66;03m# Create a panorama\u001B[39;00m\n\u001B[1;32m---> 73\u001B[0m panorama \u001B[38;5;241m=\u001B[39m create_panorama(frames)\n\u001B[0;32m     75\u001B[0m \u001B[38;5;66;03m# Save the final panorama\u001B[39;00m\n\u001B[0;32m     76\u001B[0m output_path \u001B[38;5;241m=\u001B[39m \u001B[38;5;124m\"\u001B[39m\u001B[38;5;124moutput.jpg\u001B[39m\u001B[38;5;124m\"\u001B[39m\n",
      "Cell \u001B[1;32mIn[2], line 63\u001B[0m, in \u001B[0;36mcreate_panorama\u001B[1;34m(frames)\u001B[0m\n\u001B[0;32m     60\u001B[0m     H, _ \u001B[38;5;241m=\u001B[39m cv2\u001B[38;5;241m.\u001B[39mfindHomography(src_pts, dst_pts, cv2\u001B[38;5;241m.\u001B[39mRANSAC, \u001B[38;5;241m5.0\u001B[39m)\n\u001B[0;32m     62\u001B[0m     \u001B[38;5;66;03m# Warp the second frame to the first frame\u001B[39;00m\n\u001B[1;32m---> 63\u001B[0m     panorama \u001B[38;5;241m=\u001B[39m cv2\u001B[38;5;241m.\u001B[39mwarpPerspective(panorama, H, (panorama\u001B[38;5;241m.\u001B[39mshape[\u001B[38;5;241m1\u001B[39m] \u001B[38;5;241m+\u001B[39m frame_resized\u001B[38;5;241m.\u001B[39mshape[\u001B[38;5;241m1\u001B[39m], panorama\u001B[38;5;241m.\u001B[39mshape[\u001B[38;5;241m0\u001B[39m]))\n\u001B[0;32m     64\u001B[0m     panorama[\u001B[38;5;241m0\u001B[39m:frame_resized\u001B[38;5;241m.\u001B[39mshape[\u001B[38;5;241m0\u001B[39m], \u001B[38;5;241m0\u001B[39m:frame_resized\u001B[38;5;241m.\u001B[39mshape[\u001B[38;5;241m1\u001B[39m]] \u001B[38;5;241m=\u001B[39m frame_resized\n\u001B[0;32m     66\u001B[0m \u001B[38;5;28;01mreturn\u001B[39;00m panorama\n",
      "\u001B[1;31merror\u001B[0m: OpenCV(4.10.0) D:\\a\\opencv-python\\opencv-python\\opencv\\modules\\imgproc\\src\\imgwarp.cpp:1813: error: (-215:Assertion failed) dst.cols < SHRT_MAX && dst.rows < SHRT_MAX && src.cols < SHRT_MAX && src.rows < SHRT_MAX in function 'cv::remap'\n"
     ]
    }
   ],
   "execution_count": 2
  }
 ],
 "metadata": {
  "kernelspec": {
   "display_name": "Python 3",
   "language": "python",
   "name": "python3"
  },
  "language_info": {
   "codemirror_mode": {
    "name": "ipython",
    "version": 2
   },
   "file_extension": ".py",
   "mimetype": "text/x-python",
   "name": "python",
   "nbconvert_exporter": "python",
   "pygments_lexer": "ipython2",
   "version": "2.7.6"
  }
 },
 "nbformat": 4,
 "nbformat_minor": 5
}
